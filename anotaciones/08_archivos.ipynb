{
 "cells": [
  {
   "cell_type": "code",
   "execution_count": 5,
   "metadata": {},
   "outputs": [
    {
     "name": "stdout",
     "output_type": "stream",
     "text": [
      "<_io.TextIOWrapper name='./08_archivos.txt' mode='r' encoding='UTF-8'>\n",
      "<class '_io.TextIOWrapper'>\n",
      "['Buenos dias\\n', 'Buenas tardes\\n', 'Buenas noches']\n",
      "<class 'list'>\n",
      "Buenos dias\n",
      "\n",
      "Buenas tardes\n",
      "\n",
      "Buenas noches\n"
     ]
    }
   ],
   "source": [
    "try:\n",
    "    path = './08_archivos.txt'\n",
    "    archivo_abierto = open(path)\n",
    "    print(archivo_abierto)\n",
    "    print(type(archivo_abierto))\n",
    "    \n",
    "    # linea_leida = archivo_abierto.readline()\n",
    "    # print(linea_leida)\n",
    "    # linea_leida_2 = archivo_abierto.readline()\n",
    "    # print(linea_leida_2)\n",
    "    \n",
    "    lineas_leidas = archivo_abierto.readlines()\n",
    "    print(lineas_leidas)\n",
    "    print(type(lineas_leidas))\n",
    "    \n",
    "    for linea in lineas_leidas:\n",
    "        print(linea)\n",
    "except:\n",
    "    print('error al abrir el archivo')"
   ]
  },
  {
   "cell_type": "code",
   "execution_count": 6,
   "metadata": {},
   "outputs": [
    {
     "name": "stdout",
     "output_type": "stream",
     "text": [
      "<_io.TextIOWrapper name='./08_archivos.txt' mode='w' encoding='UTF-8'>\n",
      "<class '_io.TextIOWrapper'>\n"
     ]
    }
   ],
   "source": [
    "try:\n",
    "    path = './08_archivos.txt'\n",
    "    archivo_escritura = open(path, mode='w')\n",
    "    print(archivo_escritura)\n",
    "    print(type(archivo_escritura))\n",
    "    archivo_escritura.write('buenas noches') # sobrescribe el contenido\n",
    "    archivo_escritura.close()\n",
    "    \n",
    "except:\n",
    "    print('error al abrir el archivo')"
   ]
  },
  {
   "cell_type": "code",
   "execution_count": 8,
   "metadata": {},
   "outputs": [
    {
     "name": "stdout",
     "output_type": "stream",
     "text": [
      "<_io.TextIOWrapper name='./08_archivos.txt' mode='a' encoding='UTF-8'>\n",
      "<class '_io.TextIOWrapper'>\n"
     ]
    }
   ],
   "source": [
    "try:\n",
    "    path = './08_archivos.txt'\n",
    "    archivo_escritura = open(path, mode='a')\n",
    "    print(archivo_escritura)\n",
    "    print(type(archivo_escritura))\n",
    "    archivo_escritura.write('\\nbuenas dias') # sobrescribe el contenido\n",
    "    archivo_escritura.close()\n",
    "    \n",
    "except:\n",
    "    print('error al abrir el archivo')"
   ]
  },
  {
   "cell_type": "code",
   "execution_count": null,
   "metadata": {},
   "outputs": [],
   "source": []
  },
  {
   "cell_type": "code",
   "execution_count": null,
   "metadata": {},
   "outputs": [],
   "source": []
  },
  {
   "cell_type": "code",
   "execution_count": null,
   "metadata": {},
   "outputs": [],
   "source": []
  },
  {
   "cell_type": "code",
   "execution_count": null,
   "metadata": {},
   "outputs": [],
   "source": []
  }
 ],
 "metadata": {
  "kernelspec": {
   "display_name": "Python 3",
   "language": "python",
   "name": "python3"
  },
  "language_info": {
   "codemirror_mode": {
    "name": "ipython",
    "version": 3
   },
   "file_extension": ".py",
   "mimetype": "text/x-python",
   "name": "python",
   "nbconvert_exporter": "python",
   "pygments_lexer": "ipython3",
   "version": "3.7.1"
  }
 },
 "nbformat": 4,
 "nbformat_minor": 2
}
