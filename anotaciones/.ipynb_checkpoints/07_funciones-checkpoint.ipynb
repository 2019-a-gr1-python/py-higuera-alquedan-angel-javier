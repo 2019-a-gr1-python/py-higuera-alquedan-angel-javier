{
 "cells": [
  {
   "cell_type": "code",
   "execution_count": 2,
   "metadata": {},
   "outputs": [],
   "source": [
    "def hola_mundo():\n",
    "    print('hola mundo')"
   ]
  },
  {
   "cell_type": "code",
   "execution_count": 3,
   "metadata": {},
   "outputs": [
    {
     "name": "stdout",
     "output_type": "stream",
     "text": [
      "hola mundo\n"
     ]
    },
    {
     "data": {
      "text/plain": [
       "NoneType"
      ]
     },
     "execution_count": 3,
     "metadata": {},
     "output_type": "execute_result"
    }
   ],
   "source": [
    "type(hola_mundo())"
   ]
  },
  {
   "cell_type": "code",
   "execution_count": 4,
   "metadata": {},
   "outputs": [
    {
     "data": {
      "text/plain": [
       "function"
      ]
     },
     "execution_count": 4,
     "metadata": {},
     "output_type": "execute_result"
    }
   ],
   "source": [
    "type(hola_mundo)"
   ]
  },
  {
   "cell_type": "code",
   "execution_count": 7,
   "metadata": {},
   "outputs": [],
   "source": [
    "def sumar_dos_numeros(num_1, num_2):\n",
    "    return num_1 + num_2"
   ]
  },
  {
   "cell_type": "code",
   "execution_count": 9,
   "metadata": {},
   "outputs": [
    {
     "name": "stdout",
     "output_type": "stream",
     "text": [
      "3\n",
      "<class 'int'>\n"
     ]
    }
   ],
   "source": [
    "print(sumar_dos_numeros(1,2))\n",
    "print(type(sumar_dos_numeros(1,2)))"
   ]
  },
  {
   "cell_type": "code",
   "execution_count": 10,
   "metadata": {},
   "outputs": [
    {
     "ename": "TypeError",
     "evalue": "sumar_dos_numeros() missing 2 required positional arguments: 'num_1' and 'num_2'",
     "output_type": "error",
     "traceback": [
      "\u001b[0;31m---------------------------------------------------------------------------\u001b[0m",
      "\u001b[0;31mTypeError\u001b[0m                                 Traceback (most recent call last)",
      "\u001b[0;32m<ipython-input-10-501258f35dde>\u001b[0m in \u001b[0;36m<module>\u001b[0;34m\u001b[0m\n\u001b[0;32m----> 1\u001b[0;31m \u001b[0mprint\u001b[0m\u001b[0;34m(\u001b[0m\u001b[0msumar_dos_numeros\u001b[0m\u001b[0;34m(\u001b[0m\u001b[0;34m)\u001b[0m\u001b[0;34m)\u001b[0m\u001b[0;34m\u001b[0m\u001b[0;34m\u001b[0m\u001b[0m\n\u001b[0m",
      "\u001b[0;31mTypeError\u001b[0m: sumar_dos_numeros() missing 2 required positional arguments: 'num_1' and 'num_2'"
     ]
    }
   ],
   "source": [
    "# print(sumar_dos_numeros())"
   ]
  },
  {
   "cell_type": "code",
   "execution_count": 11,
   "metadata": {},
   "outputs": [],
   "source": [
    "def imprimir_universidad(nombre = 'EPN'):\n",
    "    return print(f\"Universidad: {nombre}\")"
   ]
  },
  {
   "cell_type": "code",
   "execution_count": 12,
   "metadata": {},
   "outputs": [
    {
     "name": "stdout",
     "output_type": "stream",
     "text": [
      "Universidad: EPN\n",
      "Universidad: ESPE\n"
     ]
    }
   ],
   "source": [
    "imprimir_universidad()\n",
    "imprimir_universidad('ESPE')"
   ]
  },
  {
   "cell_type": "code",
   "execution_count": 21,
   "metadata": {},
   "outputs": [],
   "source": [
    "def imprimir_carro(color, placa, hp, anio):\n",
    "    print(f\"Color: {color}\\nPlaca: {placa}\\nHP: {hp}\\nAnio: {anio}\")"
   ]
  },
  {
   "cell_type": "code",
   "execution_count": 22,
   "metadata": {},
   "outputs": [
    {
     "name": "stdout",
     "output_type": "stream",
     "text": [
      "Color: azul\n",
      "Placa: PIK-123\n",
      "HP: 3000\n",
      "Anio: 2015\n"
     ]
    }
   ],
   "source": [
    "imprimir_carro('azul', 'PIK-123',3000,2015)"
   ]
  },
  {
   "cell_type": "code",
   "execution_count": 23,
   "metadata": {},
   "outputs": [
    {
     "name": "stdout",
     "output_type": "stream",
     "text": [
      "Color: azul\n",
      "Placa: PIK-123\n",
      "HP: 3000\n",
      "Anio: 2015\n",
      "Color: rokjo\n",
      "Placa: PIK-123\n",
      "HP: 3000\n",
      "Anio: 2015\n"
     ]
    }
   ],
   "source": [
    "# named parameters\n",
    "imprimir_carro(color='azul', placa='PIK-123',hp=3000,anio=2015) \n",
    "imprimir_carro(color='rokjo',anio=2015,hp=3000, placa='PIK-123') "
   ]
  },
  {
   "cell_type": "code",
   "execution_count": 24,
   "metadata": {},
   "outputs": [
    {
     "name": "stdout",
     "output_type": "stream",
     "text": [
      "Color: negro\n",
      "Placa: PIK-123\n",
      "HP: 3000\n",
      "Anio: 2015\n"
     ]
    }
   ],
   "source": [
    "imprimir_carro('negro',anio=2015,hp=3000, placa='PIK-123') "
   ]
  },
  {
   "cell_type": "code",
   "execution_count": 34,
   "metadata": {},
   "outputs": [],
   "source": [
    "def sumar_numeros(num_1, *numeros): # parametros infinitos\n",
    "    print(type(num_1))\n",
    "    print(type(numeros))\n",
    "    total= 0\n",
    "    for numero in numeros:\n",
    "        print(f\"Numero: {numero}\")\n",
    "        total+=numero\n",
    "    return num_1+total"
   ]
  },
  {
   "cell_type": "code",
   "execution_count": 28,
   "metadata": {},
   "outputs": [
    {
     "name": "stdout",
     "output_type": "stream",
     "text": [
      "<class 'int'>\n",
      "<class 'tuple'>\n",
      "Numero: 2\n",
      "Numero: 3\n",
      "Numero: 4\n",
      "Numero: 5\n",
      "Numero: 6\n",
      "Numero: 7\n",
      "Numero: 8\n",
      "Numero: 9\n"
     ]
    }
   ],
   "source": [
    "sumar_numeros(1,2,3,4,5,6,7,8,9)"
   ]
  },
  {
   "cell_type": "code",
   "execution_count": 36,
   "metadata": {},
   "outputs": [
    {
     "name": "stdout",
     "output_type": "stream",
     "text": [
      "<class 'int'>\n",
      "<class 'tuple'>\n",
      "Numero: 2\n",
      "Numero: 3\n",
      "6\n"
     ]
    }
   ],
   "source": [
    "print(sumar_numeros(1,2,3))"
   ]
  },
  {
   "cell_type": "code",
   "execution_count": 39,
   "metadata": {},
   "outputs": [],
   "source": [
    "def libreria(nombre, conexion, **key_word_arguments):\n",
    "    print(f\"Nombre: {nombre}\")\n",
    "    print(f\"Conexion: {conexion}\")\n",
    "    print(type(key_word_arguments))"
   ]
  },
  {
   "cell_type": "code",
   "execution_count": 40,
   "metadata": {},
   "outputs": [
    {
     "name": "stdout",
     "output_type": "stream",
     "text": [
      "Nombre: JS\n",
      "Conexion: ipaddress\n",
      "<class 'dict'>\n"
     ]
    }
   ],
   "source": [
    "libreria(\"JS\", \"ipaddress\")"
   ]
  },
  {
   "cell_type": "code",
   "execution_count": 54,
   "metadata": {},
   "outputs": [],
   "source": [
    "def libreria(nombre, conexion, **key_word_arguments):\n",
    "    print(f\"Nombre: {nombre}\")\n",
    "    print(f\"Conexion: {conexion}\")\n",
    "    for key in key_word_arguments.keys():\n",
    "        print (f\"{key.capitalize()}: {key_word_arguments[key]}\")"
   ]
  },
  {
   "cell_type": "code",
   "execution_count": 57,
   "metadata": {},
   "outputs": [
    {
     "name": "stdout",
     "output_type": "stream",
     "text": [
      "Nombre: TS\n",
      "Conexion: ipaddress\n",
      "Puerto: 3000\n",
      "Extension: com\n",
      "Dependencia: JS\n",
      "Version: 1.0\n"
     ]
    }
   ],
   "source": [
    "libreria(\"TS\", \"ipaddress\", puerto=3000, extension=\"com\", dependencia=\"JS\", version=1.0)"
   ]
  },
  {
   "cell_type": "code",
   "execution_count": 66,
   "metadata": {},
   "outputs": [],
   "source": [
    "def funcion_completa(requerido,\n",
    "                     opcional='valor',\n",
    "                     *infinitos,\n",
    "                     **kwargs):\n",
    "    print(f\"Requerido: {requerido}\")\n",
    "    print(f\"Opcional: {opcional}\")\n",
    "    for key in infinitos:\n",
    "        print (f\"Infinito: {key}\")\n",
    "    for key in kwargs.keys():\n",
    "        print (f\"{key.capitalize()}: {kwargs[key]}\")"
   ]
  },
  {
   "cell_type": "code",
   "execution_count": 67,
   "metadata": {},
   "outputs": [
    {
     "name": "stdout",
     "output_type": "stream",
     "text": [
      "Requerido: 1\n",
      "Opcional: opcional\n",
      "Infinito: 1\n",
      "Infinito: 2\n",
      "Infinito: 3\n",
      "Infinito: 4\n",
      "Infinito: 5\n",
      "Infinito: 6\n",
      "Valor: valor\n",
      "Llave: llave\n"
     ]
    }
   ],
   "source": [
    "funcion_completa(1,'opcional',\n",
    "                1,2,3,4,5,6,\n",
    "                valor='valor',\n",
    "                llave='llave')"
   ]
  },
  {
   "cell_type": "code",
   "execution_count": null,
   "metadata": {},
   "outputs": [],
   "source": []
  }
 ],
 "metadata": {
  "kernelspec": {
   "display_name": "Python 3",
   "language": "python",
   "name": "python3"
  },
  "language_info": {
   "codemirror_mode": {
    "name": "ipython",
    "version": 3
   },
   "file_extension": ".py",
   "mimetype": "text/x-python",
   "name": "python",
   "nbconvert_exporter": "python",
   "pygments_lexer": "ipython3",
   "version": "3.7.3"
  }
 },
 "nbformat": 4,
 "nbformat_minor": 2
}
