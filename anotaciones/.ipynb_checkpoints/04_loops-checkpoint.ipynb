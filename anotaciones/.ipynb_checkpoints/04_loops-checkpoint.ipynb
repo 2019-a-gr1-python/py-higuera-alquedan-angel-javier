{
 "cells": [
  {
   "cell_type": "code",
   "execution_count": null,
   "metadata": {},
   "outputs": [],
   "source": [
    "listaNumero = [1,2,3,4,5,6,7,8,9]"
   ]
  },
  {
   "cell_type": "code",
   "execution_count": 4,
   "metadata": {},
   "outputs": [],
   "source": [
    "rango1 = range(1,5)"
   ]
  },
  {
   "cell_type": "code",
   "execution_count": 7,
   "metadata": {},
   "outputs": [
    {
     "name": "stdout",
     "output_type": "stream",
     "text": [
      "numero: 1\n",
      "numero: 2\n",
      "numero: 3\n",
      "numero: 4\n"
     ]
    }
   ],
   "source": [
    "for numero in rango1:\n",
    "    print (f\"numero: {numero}\")"
   ]
  },
  {
   "cell_type": "code",
   "execution_count": 9,
   "metadata": {},
   "outputs": [
    {
     "name": "stdout",
     "output_type": "stream",
     "text": [
      "numero: 1\n",
      "numero: 2\n",
      "numero: 3\n"
     ]
    }
   ],
   "source": [
    "for numero in rango1:\n",
    "    if (numero == 4 or numero == 8):\n",
    "        continue\n",
    "    print (f\"numero: {numero}\")"
   ]
  },
  {
   "cell_type": "code",
   "execution_count": 10,
   "metadata": {},
   "outputs": [
    {
     "name": "stdout",
     "output_type": "stream",
     "text": [
      "numero: 0\n",
      "numero: 1\n",
      "numero: 2\n",
      "numero: 3\n",
      "numero: 4\n",
      "numero: 5\n",
      "numero: 6\n",
      "numero: 7\n",
      "numero: 8\n",
      "numero: 9\n"
     ]
    }
   ],
   "source": [
    "numeroAuxiliar = 0\n",
    "while numeroAuxiliar<10:\n",
    "    print (f\"numero: {numeroAuxiliar}\")\n",
    "    numeroAuxiliar+=1"
   ]
  },
  {
   "cell_type": "code",
   "execution_count": null,
   "metadata": {},
   "outputs": [],
   "source": []
  },
  {
   "cell_type": "code",
   "execution_count": null,
   "metadata": {},
   "outputs": [],
   "source": []
  }
 ],
 "metadata": {
  "kernelspec": {
   "display_name": "Python 3",
   "language": "python",
   "name": "python3"
  },
  "language_info": {
   "codemirror_mode": {
    "name": "ipython",
    "version": 3
   },
   "file_extension": ".py",
   "mimetype": "text/x-python",
   "name": "python",
   "nbconvert_exporter": "python",
   "pygments_lexer": "ipython3",
   "version": "3.7.3"
  }
 },
 "nbformat": 4,
 "nbformat_minor": 2
}
