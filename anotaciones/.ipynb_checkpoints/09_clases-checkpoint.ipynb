{
 "cells": [
  {
   "cell_type": "code",
   "execution_count": 1,
   "metadata": {},
   "outputs": [],
   "source": [
    "class Nada:\n",
    "    pass"
   ]
  },
  {
   "cell_type": "code",
   "execution_count": 2,
   "metadata": {},
   "outputs": [],
   "source": [
    "una_nada = Nada()"
   ]
  },
  {
   "cell_type": "code",
   "execution_count": 4,
   "metadata": {},
   "outputs": [
    {
     "name": "stdout",
     "output_type": "stream",
     "text": [
      "<__main__.Nada object at 0x1102a77b8>\n",
      "<class '__main__.Nada'>\n"
     ]
    }
   ],
   "source": [
    "print(una_nada)\n",
    "print(type(una_nada))"
   ]
  },
  {
   "cell_type": "code",
   "execution_count": 39,
   "metadata": {},
   "outputs": [],
   "source": [
    "class Auto:\n",
    "    color = 'negro'\n",
    "    placa = ''\n",
    "    __numero_calculo = 1024\n",
    "    def __init__(self, placa):\n",
    "        print('estamos incializando el auto')\n",
    "        self.placa= placa\n",
    "    def __str__(self):\n",
    "        return f\"Color: {self.color}\\nPlaca: {self.placa}\"\n",
    "    def calcular_impuesto(self, anio):\n",
    "        total_a_pagar = self.__calculo(anio)\n",
    "        print(f\"su total a pagar es {total_a_pagar}\")\n",
    "        return total_a_pagar\n",
    "    def __calculo(self, anio):\n",
    "        return (anio/2) + self.__numero_calculo\n",
    "        "
   ]
  },
  {
   "cell_type": "code",
   "execution_count": 40,
   "metadata": {},
   "outputs": [
    {
     "name": "stdout",
     "output_type": "stream",
     "text": [
      "estamos incializando el auto\n"
     ]
    }
   ],
   "source": [
    "coche = Auto('ASD-123')"
   ]
  },
  {
   "cell_type": "code",
   "execution_count": 24,
   "metadata": {},
   "outputs": [
    {
     "name": "stdout",
     "output_type": "stream",
     "text": [
      "negro\n",
      "ASD-123\n",
      "Color: negro\n",
      "Placa: ASD-123\n"
     ]
    }
   ],
   "source": [
    "print(coche.color)\n",
    "print(coche.placa)\n",
    "\n",
    "print(coche)"
   ]
  },
  {
   "cell_type": "code",
   "execution_count": 38,
   "metadata": {},
   "outputs": [
    {
     "name": "stdout",
     "output_type": "stream",
     "text": [
      "su total a pagar es 2033.5\n"
     ]
    },
    {
     "data": {
      "text/plain": [
       "2033.5"
      ]
     },
     "execution_count": 38,
     "metadata": {},
     "output_type": "execute_result"
    }
   ],
   "source": [
    "coche.calcular_impuesto(2019)"
   ]
  },
  {
   "cell_type": "code",
   "execution_count": 37,
   "metadata": {},
   "outputs": [
    {
     "ename": "AttributeError",
     "evalue": "'Auto' object has no attribute '__calculo'",
     "output_type": "error",
     "traceback": [
      "\u001b[0;31m---------------------------------------------------------------------------\u001b[0m",
      "\u001b[0;31mAttributeError\u001b[0m                            Traceback (most recent call last)",
      "\u001b[0;32m<ipython-input-37-c0bc375d25b8>\u001b[0m in \u001b[0;36m<module>\u001b[0;34m\u001b[0m\n\u001b[0;32m----> 1\u001b[0;31m \u001b[0mcoche\u001b[0m\u001b[0;34m.\u001b[0m\u001b[0m__calculo\u001b[0m\u001b[0;34m(\u001b[0m\u001b[0;36m2019\u001b[0m\u001b[0;34m)\u001b[0m\u001b[0;34m\u001b[0m\u001b[0;34m\u001b[0m\u001b[0m\n\u001b[0m",
      "\u001b[0;31mAttributeError\u001b[0m: 'Auto' object has no attribute '__calculo'"
     ]
    }
   ],
   "source": [
    "coche.__calculo(2019)"
   ]
  },
  {
   "cell_type": "code",
   "execution_count": 42,
   "metadata": {},
   "outputs": [
    {
     "name": "stdout",
     "output_type": "stream",
     "text": [
      "1024\n"
     ]
    }
   ],
   "source": [
    "print(coche._Auto__numero_calculo)"
   ]
  },
  {
   "cell_type": "code",
   "execution_count": 82,
   "metadata": {},
   "outputs": [],
   "source": [
    "class BMW(Auto):\n",
    "    def __init__(self, placa, hp_motor = 5000):\n",
    "        super().__init__(placa)\n",
    "        self.hp_motor=hp_motor # Inicializando las propiedades\n",
    "    def __str__(self):\n",
    "        return super().__str__() + f\"\\nHP: {self.hp_motor}\""
   ]
  },
  {
   "cell_type": "code",
   "execution_count": 83,
   "metadata": {},
   "outputs": [
    {
     "name": "stdout",
     "output_type": "stream",
     "text": [
      "estamos incializando el auto\n"
     ]
    }
   ],
   "source": [
    "nuevo_bmw = BMW('BMW-123')"
   ]
  },
  {
   "cell_type": "code",
   "execution_count": 45,
   "metadata": {},
   "outputs": [
    {
     "name": "stdout",
     "output_type": "stream",
     "text": [
      "BMW-123\n"
     ]
    }
   ],
   "source": [
    "print(nuevo_bmw.placa)"
   ]
  },
  {
   "cell_type": "code",
   "execution_count": 84,
   "metadata": {},
   "outputs": [
    {
     "name": "stdout",
     "output_type": "stream",
     "text": [
      "Color: negro\n",
      "Placa: BMW-123\n",
      "HP: 5000\n"
     ]
    }
   ],
   "source": [
    "print(nuevo_bmw)"
   ]
  },
  {
   "cell_type": "code",
   "execution_count": null,
   "metadata": {},
   "outputs": [],
   "source": []
  }
 ],
 "metadata": {
  "kernelspec": {
   "display_name": "Python 3",
   "language": "python",
   "name": "python3"
  },
  "language_info": {
   "codemirror_mode": {
    "name": "ipython",
    "version": 3
   },
   "file_extension": ".py",
   "mimetype": "text/x-python",
   "name": "python",
   "nbconvert_exporter": "python",
   "pygments_lexer": "ipython3",
   "version": "3.7.3"
  }
 },
 "nbformat": 4,
 "nbformat_minor": 2
}
