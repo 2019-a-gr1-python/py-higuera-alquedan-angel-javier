{
 "cells": [
  {
   "cell_type": "code",
   "execution_count": 2,
   "metadata": {},
   "outputs": [],
   "source": [
    "import numpy as np"
   ]
  },
  {
   "cell_type": "code",
   "execution_count": 3,
   "metadata": {},
   "outputs": [
    {
     "data": {
      "text/plain": [
       "array([  0,   1,   4,   9,  16,  25,  36,  49,  64,  81, 100])"
      ]
     },
     "execution_count": 3,
     "metadata": {},
     "output_type": "execute_result"
    }
   ],
   "source": [
    "numeros=np.arange(11)**2\n",
    "numeros"
   ]
  },
  {
   "cell_type": "code",
   "execution_count": 4,
   "metadata": {},
   "outputs": [],
   "source": [
    "indices=[2,5,7]"
   ]
  },
  {
   "cell_type": "code",
   "execution_count": 5,
   "metadata": {},
   "outputs": [
    {
     "data": {
      "text/plain": [
       "array([ 4, 25, 49])"
      ]
     },
     "execution_count": 5,
     "metadata": {},
     "output_type": "execute_result"
    }
   ],
   "source": [
    "numeros[indices]"
   ]
  },
  {
   "cell_type": "code",
   "execution_count": 6,
   "metadata": {},
   "outputs": [
    {
     "data": {
      "text/plain": [
       "(3, 4)"
      ]
     },
     "execution_count": 6,
     "metadata": {},
     "output_type": "execute_result"
    }
   ],
   "source": [
    "arreglo_de_frutas=np.array([\n",
    "    [\"pinia\", \"manzana\", \"pera\", \"melon\"],\n",
    "    [\"pera\", \"uva\", \"naranja\", \"papaya\"],\n",
    "    [\"frutilla\", \"platano\", \"granadilla\", \"sandia\"]\n",
    "])\n",
    "arreglo_de_frutas.shape"
   ]
  },
  {
   "cell_type": "code",
   "execution_count": 7,
   "metadata": {},
   "outputs": [
    {
     "data": {
      "text/plain": [
       "array([[1, 3],\n",
       "       [1, 2],\n",
       "       [0, 2]])"
      ]
     },
     "execution_count": 7,
     "metadata": {},
     "output_type": "execute_result"
    }
   ],
   "source": [
    "arreglo_filas=np.array([\n",
    "    [0,0],\n",
    "    [1,1],\n",
    "    [2,2]\n",
    "])\n",
    "arreglo_columnas=np.array([\n",
    "    [1,3],\n",
    "    [1,2],\n",
    "    [0,2]\n",
    "])\n",
    "arreglo_filas\n",
    "arreglo_columnas"
   ]
  },
  {
   "cell_type": "code",
   "execution_count": 8,
   "metadata": {},
   "outputs": [
    {
     "data": {
      "text/plain": [
       "array([['manzana', 'melon'],\n",
       "       ['uva', 'naranja'],\n",
       "       ['frutilla', 'granadilla']], dtype='<U10')"
      ]
     },
     "execution_count": 8,
     "metadata": {},
     "output_type": "execute_result"
    }
   ],
   "source": [
    "arreglo_de_frutas[arreglo_filas,arreglo_columnas]"
   ]
  },
  {
   "cell_type": "code",
   "execution_count": 9,
   "metadata": {},
   "outputs": [
    {
     "data": {
      "text/plain": [
       "array([['pinia', 'manzana', 'pera', 'melon'],\n",
       "       ['pera', 'uva', 'naranja', 'papaya'],\n",
       "       ['frutilla', 'platano', 'granadilla', 'sandia']], dtype='<U10')"
      ]
     },
     "execution_count": 9,
     "metadata": {},
     "output_type": "execute_result"
    }
   ],
   "source": [
    "arreglo_de_frutas"
   ]
  },
  {
   "cell_type": "code",
   "execution_count": 10,
   "metadata": {},
   "outputs": [
    {
     "data": {
      "text/plain": [
       "array([[1, 3],\n",
       "       [1, 2],\n",
       "       [0, 2]])"
      ]
     },
     "execution_count": 10,
     "metadata": {},
     "output_type": "execute_result"
    }
   ],
   "source": [
    "arreglo_filas_2=np.array([\n",
    "    [0,0],\n",
    "    [1,1],\n",
    "    [2,2]\n",
    "])\n",
    "arreglo_columnas_2=np.array([\n",
    "    [2,3],\n",
    "    [2,3],\n",
    "    [2,3]\n",
    "])\n",
    "arreglo_filas\n",
    "arreglo_columnas"
   ]
  },
  {
   "cell_type": "code",
   "execution_count": 11,
   "metadata": {},
   "outputs": [
    {
     "data": {
      "text/plain": [
       "array([['pera', 'melon'],\n",
       "       ['naranja', 'papaya'],\n",
       "       ['granadilla', 'sandia']], dtype='<U10')"
      ]
     },
     "execution_count": 11,
     "metadata": {},
     "output_type": "execute_result"
    }
   ],
   "source": [
    "arreglo_de_frutas[arreglo_filas_2,arreglo_columnas_2]"
   ]
  },
  {
   "cell_type": "code",
   "execution_count": 12,
   "metadata": {},
   "outputs": [
    {
     "data": {
      "text/plain": [
       "(4, 3, 2)"
      ]
     },
     "execution_count": 12,
     "metadata": {},
     "output_type": "execute_result"
    }
   ],
   "source": [
    "arreglo_de_frutas_2=np.array([\n",
    "    [\n",
    "        [\"pinia\", \"manzana\"],\n",
    "        [\"pera\", \"melon\"],\n",
    "        [\"kiwi\", \"uva\"],\n",
    "    ],\n",
    "    [    \n",
    "        [\"naranja\", \"papaya\"],\n",
    "        [\"frutilla\", \"platano\"],\n",
    "        [\"granadilla\", \"sandia\"]\n",
    "    ],\n",
    "    [\n",
    "        [\"pinia_2\", \"manzana_2\"],\n",
    "        [\"pera_2\", \"melon_2\"],\n",
    "        [\"kiwi_2\", \"uva_2\"],\n",
    "    ],\n",
    "    [    \n",
    "        [\"naranja_2\", \"papaya_2\"],\n",
    "        [\"frutilla_2\", \"platano_2\"],\n",
    "        [\"granadilla_2\", \"sandia_2\"]\n",
    "    ]])\n",
    "arreglo_de_frutas_2.shape"
   ]
  },
  {
   "cell_type": "code",
   "execution_count": 13,
   "metadata": {},
   "outputs": [
    {
     "data": {
      "text/plain": [
       "array([[['pinia', 'manzana'],\n",
       "        ['pera', 'melon'],\n",
       "        ['kiwi', 'uva']],\n",
       "\n",
       "       [['naranja', 'papaya'],\n",
       "        ['frutilla', 'platano'],\n",
       "        ['granadilla', 'sandia']],\n",
       "\n",
       "       [['pinia_2', 'manzana_2'],\n",
       "        ['pera_2', 'melon_2'],\n",
       "        ['kiwi_2', 'uva_2']],\n",
       "\n",
       "       [['naranja_2', 'papaya_2'],\n",
       "        ['frutilla_2', 'platano_2'],\n",
       "        ['granadilla_2', 'sandia_2']]], dtype='<U12')"
      ]
     },
     "execution_count": 13,
     "metadata": {},
     "output_type": "execute_result"
    }
   ],
   "source": [
    "arreglo_de_frutas_2"
   ]
  },
  {
   "cell_type": "code",
   "execution_count": 14,
   "metadata": {},
   "outputs": [
    {
     "data": {
      "text/plain": [
       "array([['pinia', 'melon']], dtype='<U12')"
      ]
     },
     "execution_count": 14,
     "metadata": {},
     "output_type": "execute_result"
    }
   ],
   "source": [
    "arreglo_filas_3=np.array([\n",
    "    [0,0],\n",
    "])\n",
    "arreglo_columnas_3=np.array([\n",
    "    [0,1],\n",
    "])\n",
    "arreglo_fondo_3=np.array([0,1])\n",
    "arreglo_de_frutas_2[arreglo_filas_3, arreglo_columnas_3,arreglo_fondo_3 ]"
   ]
  },
  {
   "cell_type": "code",
   "execution_count": 15,
   "metadata": {},
   "outputs": [
    {
     "data": {
      "text/plain": [
       "array([['pinia', 'manzana'],\n",
       "       ['pinia', 'melon']], dtype='<U12')"
      ]
     },
     "execution_count": 15,
     "metadata": {},
     "output_type": "execute_result"
    }
   ],
   "source": [
    "arreglo_de_frutas_2[[[0,0],[0,0]],[[0,0],[0,1]],[0,1]]"
   ]
  },
  {
   "cell_type": "code",
   "execution_count": 16,
   "metadata": {},
   "outputs": [
    {
     "data": {
      "text/plain": [
       "array([[['pinia', 'manzana'],\n",
       "        ['pera', 'melon'],\n",
       "        ['kiwi', 'uva']],\n",
       "\n",
       "       [['naranja', 'papaya'],\n",
       "        ['frutilla', 'platano'],\n",
       "        ['granadilla', 'sandia']],\n",
       "\n",
       "       [['pinia_2', 'manzana_2'],\n",
       "        ['pera_2', 'melon_2'],\n",
       "        ['kiwi_2', 'uva_2']],\n",
       "\n",
       "       [['naranja_2', 'papaya_2'],\n",
       "        ['frutilla_2', 'platano_2'],\n",
       "        ['granadilla_2', 'sandia_2']]], dtype='<U12')"
      ]
     },
     "execution_count": 16,
     "metadata": {},
     "output_type": "execute_result"
    }
   ],
   "source": [
    "arreglo_de_frutas_2"
   ]
  },
  {
   "cell_type": "code",
   "execution_count": 20,
   "metadata": {},
   "outputs": [
    {
     "ename": "NameError",
     "evalue": "name 'sd' is not defined",
     "output_type": "error",
     "traceback": [
      "\u001b[0;31m---------------------------------------------------------------------------\u001b[0m",
      "\u001b[0;31mNameError\u001b[0m                                 Traceback (most recent call last)",
      "\u001b[0;32m<ipython-input-20-965f30a24c8e>\u001b[0m in \u001b[0;36m<module>\u001b[0;34m\u001b[0m\n\u001b[1;32m      1\u001b[0m \u001b[0mcondicion\u001b[0m\u001b[0;34m=\u001b[0m\u001b[0mnp\u001b[0m\u001b[0;34m.\u001b[0m\u001b[0marray\u001b[0m\u001b[0;34m(\u001b[0m\u001b[0;34m[\u001b[0m\u001b[0;34m\"pinia\"\u001b[0m\u001b[0;34m,\u001b[0m \u001b[0;34m\"manzana\"\u001b[0m\u001b[0;34m,\u001b[0m \u001b[0;34m\"pera\"\u001b[0m\u001b[0;34m,\u001b[0m \u001b[0;34m\"melon\"\u001b[0m\u001b[0;34m]\u001b[0m\u001b[0;34m)\u001b[0m\u001b[0;34m\u001b[0m\u001b[0;34m\u001b[0m\u001b[0m\n\u001b[1;32m      2\u001b[0m \u001b[0mfuncion\u001b[0m\u001b[0;34m=\u001b[0m\u001b[0;32mlambda\u001b[0m \u001b[0mstring\u001b[0m \u001b[0;34m:\u001b[0m \u001b[0;34m\"p\"\u001b[0m \u001b[0;32min\u001b[0m \u001b[0mstring\u001b[0m\u001b[0;34m\u001b[0m\u001b[0;34m\u001b[0m\u001b[0m\n\u001b[0;32m----> 3\u001b[0;31m \u001b[0mseleccion\u001b[0m\u001b[0;34m=\u001b[0m\u001b[0mcondicion\u001b[0m\u001b[0;34m[\u001b[0m\u001b[0msd\u001b[0m\u001b[0;34m==\u001b[0m\u001b[0;34m\"pinia\"\u001b[0m\u001b[0;34m]\u001b[0m\u001b[0;34m\u001b[0m\u001b[0;34m\u001b[0m\u001b[0m\n\u001b[0m\u001b[1;32m      4\u001b[0m \u001b[0mseleccion\u001b[0m\u001b[0;34m\u001b[0m\u001b[0;34m\u001b[0m\u001b[0m\n",
      "\u001b[0;31mNameError\u001b[0m: name 'sd' is not defined"
     ]
    }
   ],
   "source": [
    "condicion=np.array([\"pinia\", \"manzana\", \"pera\", \"melon\"])\n",
    "funcion=lambda string : \"p\" in string\n",
    "seleccion=condicion[(lambda string : \"p\" in string)]\n",
    "seleccion"
   ]
  },
  {
   "cell_type": "code",
   "execution_count": null,
   "metadata": {},
   "outputs": [],
   "source": [
    "lambda string : \"p\" in string"
   ]
  },
  {
   "cell_type": "code",
   "execution_count": null,
   "metadata": {},
   "outputs": [],
   "source": []
  },
  {
   "cell_type": "code",
   "execution_count": null,
   "metadata": {},
   "outputs": [],
   "source": []
  },
  {
   "cell_type": "code",
   "execution_count": null,
   "metadata": {},
   "outputs": [],
   "source": []
  }
 ],
 "metadata": {
  "kernelspec": {
   "display_name": "Python 3",
   "language": "python",
   "name": "python3"
  },
  "language_info": {
   "codemirror_mode": {
    "name": "ipython",
    "version": 3
   },
   "file_extension": ".py",
   "mimetype": "text/x-python",
   "name": "python",
   "nbconvert_exporter": "python",
   "pygments_lexer": "ipython3",
   "version": "3.7.3"
  }
 },
 "nbformat": 4,
 "nbformat_minor": 2
}
