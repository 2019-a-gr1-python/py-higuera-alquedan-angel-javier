{
 "cells": [
  {
   "cell_type": "code",
   "execution_count": 2,
   "metadata": {},
   "outputs": [],
   "source": [
    "def calculadora(num_1, num_2, operacion = 'sumar'):\n",
    "    def sumar():\n",
    "        return num_1 + num_2\n",
    "    def restar():\n",
    "        return num_1 - num_2\n",
    "    def multiplicar():\n",
    "        return num_1 * num_2\n",
    "    def dividir():\n",
    "        return num_1 / num_2\n",
    "    def switch_operation():\n",
    "        return {\n",
    "            'sumar': sumar(),\n",
    "            'restar': restar(),\n",
    "            'multiplicar': multiplicar(),\n",
    "            'dividir': dividir()\n",
    "        }[operacion]\n",
    "    return switch_operation()\n"
   ]
  },
  {
   "cell_type": "code",
   "execution_count": 4,
   "metadata": {},
   "outputs": [
    {
     "data": {
      "text/plain": [
       "-1"
      ]
     },
     "execution_count": 4,
     "metadata": {},
     "output_type": "execute_result"
    }
   ],
   "source": [
    "calculadora(1,2, 'restar')"
   ]
  },
  {
   "cell_type": "code",
   "execution_count": null,
   "metadata": {},
   "outputs": [],
   "source": []
  }
 ],
 "metadata": {
  "kernelspec": {
   "display_name": "Python 3",
   "language": "python",
   "name": "python3"
  },
  "language_info": {
   "codemirror_mode": {
    "name": "ipython",
    "version": 3
   },
   "file_extension": ".py",
   "mimetype": "text/x-python",
   "name": "python",
   "nbconvert_exporter": "python",
   "pygments_lexer": "ipython3",
   "version": "3.7.1"
  }
 },
 "nbformat": 4,
 "nbformat_minor": 2
}
