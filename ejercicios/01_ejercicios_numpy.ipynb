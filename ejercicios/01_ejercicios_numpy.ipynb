{
 "cells": [
  {
   "cell_type": "code",
   "execution_count": 1,
   "metadata": {},
   "outputs": [],
   "source": [
    "import numpy as np"
   ]
  },
  {
   "cell_type": "markdown",
   "metadata": {},
   "source": [
    "## Resolucion de Ecuaciones lineares"
   ]
  },
  {
   "cell_type": "code",
   "execution_count": 2,
   "metadata": {},
   "outputs": [
    {
     "name": "stdout",
     "output_type": "stream",
     "text": [
      "array: [[2 3]\n",
      " [3 4]]\n",
      "valores: [-1  0]\n",
      "soluciones: [ 4. -3.]\n"
     ]
    }
   ],
   "source": [
    "variables_1=np.array([[2,3],[3,4]])\n",
    "valores_1=np.array([-1,0])\n",
    "print(f\"array: {variables_1}\")\n",
    "print(f\"valores: {valores_1}\")\n",
    "resolucion=np.linalg.solve(variables_1, valores_1)\n",
    "print(f\"soluciones: {resolucion}\")"
   ]
  },
  {
   "cell_type": "code",
   "execution_count": 3,
   "metadata": {},
   "outputs": [
    {
     "data": {
      "text/plain": [
       "array([[14, 22, 28, 20],\n",
       "       [12,  1,  6,  5],\n",
       "       [16,  1, 29, 29],\n",
       "       [ 2, 15, 20, 10]])"
      ]
     },
     "execution_count": 3,
     "metadata": {},
     "output_type": "execute_result"
    }
   ],
   "source": [
    "variables_2=np.random.randint(1,30,[4,4])\n",
    "variables_2"
   ]
  },
  {
   "cell_type": "code",
   "execution_count": 4,
   "metadata": {},
   "outputs": [
    {
     "data": {
      "text/plain": [
       "array([ 8, 24, 14, 25])"
      ]
     },
     "execution_count": 4,
     "metadata": {},
     "output_type": "execute_result"
    }
   ],
   "source": [
    "valores_2=np.random.randint(1,30,4)\n",
    "valores_2"
   ]
  },
  {
   "cell_type": "code",
   "execution_count": 5,
   "metadata": {},
   "outputs": [
    {
     "data": {
      "text/plain": [
       "array([ 1.8425986 , -2.96697671,  7.01348331, -7.44502127])"
      ]
     },
     "execution_count": 5,
     "metadata": {},
     "output_type": "execute_result"
    }
   ],
   "source": [
    "resolucion_2=np.linalg.solve(variables_2, valores_2)\n",
    "resolucion_2"
   ]
  },
  {
   "cell_type": "markdown",
   "metadata": {},
   "source": [
    "## Resolucion de Ecuaciones lineares"
   ]
  },
  {
   "cell_type": "code",
   "execution_count": 6,
   "metadata": {},
   "outputs": [
    {
     "name": "stdout",
     "output_type": "stream",
     "text": [
      "[[29 10 13  7]\n",
      " [16 16  4 25]\n",
      " [22 17 28 15]\n",
      " [ 6 14  9  3]]\n",
      "---------------------------------\n",
      "[[29  1 27 10]\n",
      " [ 3  2 12  9]\n",
      " [ 8 24  5 17]\n",
      " [ 2 29 14 24]]\n",
      "---------------------------------\n",
      "[[841  10 351  70]\n",
      " [ 48  32  48 225]\n",
      " [176 408 140 255]\n",
      " [ 12 406 126  72]]\n",
      "---------------------------------\n",
      "[[87 30 39 21]\n",
      " [48 48 12 75]\n",
      " [66 51 84 45]\n",
      " [18 42 27  9]]\n",
      "---------------------------------\n",
      "[[ 1.         10.          0.48148148  0.7       ]\n",
      " [ 5.33333333  8.          0.33333333  2.77777778]\n",
      " [ 2.75        0.70833333  5.6         0.88235294]\n",
      " [ 3.          0.48275862  0.64285714  0.125     ]]\n"
     ]
    }
   ],
   "source": [
    "numeros_1=np.random.randint(1,30,[4,4])\n",
    "numeros_2=np.random.randint(1,30,[4,4])\n",
    "print(numeros_1)\n",
    "print(\"---------------------------------\")\n",
    "print(numeros_2)\n",
    "print(\"---------------------------------\")\n",
    "print(numeros_1*numeros_2)\n",
    "print(\"---------------------------------\")\n",
    "print(numeros_1*3)\n",
    "print(\"---------------------------------\")\n",
    "print(numeros_1/numeros_2)"
   ]
  },
  {
   "cell_type": "markdown",
   "metadata": {},
   "source": [
    "## Ordenar matriz"
   ]
  },
  {
   "cell_type": "code",
   "execution_count": 7,
   "metadata": {},
   "outputs": [
    {
     "name": "stdout",
     "output_type": "stream",
     "text": [
      "[[14 29  2  7]\n",
      " [12  9 17 26]\n",
      " [20 27 12 21]\n",
      " [26  2 25 14]]\n",
      "---------------------------------\n",
      "[[ 2  7 14 29]\n",
      " [ 9 12 17 26]\n",
      " [12 20 21 27]\n",
      " [ 2 14 25 26]]\n",
      "---------------------------------\n",
      "[[ 2  2  7  9]\n",
      " [12 12 14 14]\n",
      " [17 20 21 25]\n",
      " [26 26 27 29]]\n"
     ]
    }
   ],
   "source": [
    "numeros_1=np.random.randint(1,30,[4,4])\n",
    "print(numeros_1)\n",
    "print(\"---------------------------------\")\n",
    "print(np.sort(numeros_1))\n",
    "print(\"---------------------------------\")\n",
    "ordenada=np.sort(numeros_1.flatten()).reshape(4,4)\n",
    "print(ordenada)"
   ]
  },
  {
   "cell_type": "code",
   "execution_count": 9,
   "metadata": {},
   "outputs": [
    {
     "name": "stdout",
     "output_type": "stream",
     "text": [
      "[[ 2 12 17 26]\n",
      " [ 2 12 20 26]\n",
      " [ 7 14 21 27]\n",
      " [ 9 14 25 29]]\n",
      "---------------------------------\n",
      "[[29 27 26 26]\n",
      " [25 21 20 17]\n",
      " [14 14 12 12]\n",
      " [ 9  7  2  2]]\n",
      "[[  4  24 119 234]\n",
      " [ 24 144 280 364]\n",
      " [119 280 441 675]\n",
      " [234 364 675 841]]\n"
     ]
    }
   ],
   "source": [
    "print(ordenada.T)\n",
    "print(\"---------------------------------\")\n",
    "alterna=np.arange(16).reshape(4,4)\n",
    "for a in range(4):\n",
    "    for b in range(4):\n",
    "        alterna[a][b]=ordenada[3-a][3-b]\n",
    "print(alterna)\n",
    "print(ordenada.T*ordenada)"
   ]
  },
  {
   "cell_type": "code",
   "execution_count": null,
   "metadata": {},
   "outputs": [],
   "source": []
  }
 ],
 "metadata": {
  "kernelspec": {
   "display_name": "Python 3",
   "language": "python",
   "name": "python3"
  },
  "language_info": {
   "codemirror_mode": {
    "name": "ipython",
    "version": 3
   },
   "file_extension": ".py",
   "mimetype": "text/x-python",
   "name": "python",
   "nbconvert_exporter": "python",
   "pygments_lexer": "ipython3",
   "version": "3.7.3"
  }
 },
 "nbformat": 4,
 "nbformat_minor": 2
}
