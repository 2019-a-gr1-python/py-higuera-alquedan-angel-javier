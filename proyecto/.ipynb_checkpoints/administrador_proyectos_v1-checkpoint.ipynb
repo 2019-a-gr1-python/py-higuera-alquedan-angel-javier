{
 "cells": [
  {
   "cell_type": "code",
   "execution_count": 1,
   "metadata": {},
   "outputs": [],
   "source": [
    "path='./administrador_proyectos.txt'"
   ]
  },
  {
   "cell_type": "code",
   "execution_count": 2,
   "metadata": {},
   "outputs": [],
   "source": [
    "class Proyecto:\n",
    "    def __init__(self, nombre, lenguaje, monto, indice):\n",
    "        self.nombre=nombre\n",
    "        self.lenguaje=lenguaje\n",
    "        self.indice=indice\n",
    "        self.monto=monto\n",
    "        \n",
    "    def __str__(self):\n",
    "        return f\"{self.indice}\\t| Proyecto: {self.nombre}\\n\\t| Lenguaje: {self.lenguaje}\\n\\t| Monto: {self.monto}\"\n",
    "    def serializar(self):\n",
    "        return f\"{self.indice},{self.nombre},{self.lenguaje},{self.monto}\""
   ]
  },
  {
   "cell_type": "code",
   "execution_count": 3,
   "metadata": {},
   "outputs": [],
   "source": [
    "def ingresar_nuevo_proyecto(nombre, lenguaje=\"Phyton\", monto=0):\n",
    "    try:\n",
    "        indice=obtener_indice()\n",
    "        nuevo_proyecto=Proyecto(nombre,lenguaje,monto,indice)\n",
    "        print(f\"Ingresado proyecto: {nuevo_proyecto.nombre}\")\n",
    "        archivo_escritura = open(path, mode='a')\n",
    "        archivo_escritura.write(nuevo_proyecto.serializar()+'\\n')\n",
    "        archivo_escritura.close()\n",
    "    except Exception as error:\n",
    "        print(f\"Error ingreso: {error}\")"
   ]
  },
  {
   "cell_type": "code",
   "execution_count": 4,
   "metadata": {},
   "outputs": [],
   "source": [
    "def leer_proyectos():\n",
    "    try:\n",
    "        archivo_abierto = open(path)\n",
    "        lineas_leidas = archivo_abierto.readlines()\n",
    "        proyectos=[]\n",
    "        for linea in lineas_leidas:\n",
    "            attributos=linea.split(',')\n",
    "            proyecto=Proyecto(attributos[1],attributos[2],attributos[3],attributos[0])\n",
    "            proyectos.append(proyecto)\n",
    "        return proyectos\n",
    "    except Exception as error:\n",
    "        print(f\"Error lectura: {error}\")"
   ]
  },
  {
   "cell_type": "code",
   "execution_count": 5,
   "metadata": {},
   "outputs": [],
   "source": [
    "def listar_proyectos():\n",
    "    proyectos=leer_proyectos()\n",
    "    for proyecto in proyectos:\n",
    "        print(proyecto.__str__())"
   ]
  },
  {
   "cell_type": "code",
   "execution_count": 6,
   "metadata": {},
   "outputs": [],
   "source": [
    "def obtener_indice():\n",
    "    proyectos=leer_proyectos()\n",
    "    longitud=len(proyectos)\n",
    "    if longitud > 0:\n",
    "        return int(proyectos[longitud-1].indice)+1\n",
    "    return 1"
   ]
  },
  {
   "cell_type": "code",
   "execution_count": 7,
   "metadata": {},
   "outputs": [],
   "source": [
    "def ingresar_proyectos():\n",
    "    data=input(\"Ingresar datos separados por comas:\\nnombre,lenguaje\\n\")\n",
    "    if data == 'exit':\n",
    "        listar_proyectos()\n",
    "    else:\n",
    "        attributos=data.split(',')\n",
    "        if len(attributos) == 1:\n",
    "            ingresar_nuevo_proyecto(attributos[0])\n",
    "        elif len(attributos) == 2:\n",
    "            ingresar_nuevo_proyecto(attributos[0],attributos[1])\n",
    "        else:\n",
    "            ingresar_nuevo_proyecto(attributos[0],attributos[1],attributos[2])\n",
    "        ingresar_proyectos()"
   ]
  },
  {
   "cell_type": "code",
   "execution_count": 8,
   "metadata": {},
   "outputs": [],
   "source": [
    "# ingresar_nuevo_proyecto(\"Proyecto1\")\n",
    "# ingresar_nuevo_proyecto(\"Proyecto2\", \"javascript\")\n",
    "# ingresar_nuevo_proyecto(\"Proyecto3\", \"java\", 3000)"
   ]
  },
  {
   "cell_type": "code",
   "execution_count": null,
   "metadata": {},
   "outputs": [
    {
     "name": "stdout",
     "output_type": "stream",
     "text": [
      "1\t| Proyecto: Proyecto1\n",
      "\t| Lenguaje: Phyton\n",
      "\t| Monto: 0\n",
      "\n",
      "2\t| Proyecto: Proyecto2\n",
      "\t| Lenguaje: javascript\n",
      "\t| Monto: 0\n",
      "\n",
      "3\t| Proyecto: Proyecto3\n",
      "\t| Lenguaje: java\n",
      "\t| Monto: 3000\n",
      "\n"
     ]
    }
   ],
   "source": [
    "listar_proyectos()"
   ]
  },
  {
   "cell_type": "code",
   "execution_count": null,
   "metadata": {},
   "outputs": [
    {
     "name": "stdout",
     "output_type": "stream",
     "text": [
      "Ingresar datos separados por comas:\n",
      "nombre,lenguaje\n",
      "saew,java,3000\n",
      "Ingresado proyecto: saew\n"
     ]
    }
   ],
   "source": [
    "ingresar_proyectos()"
   ]
  },
  {
   "cell_type": "code",
   "execution_count": null,
   "metadata": {},
   "outputs": [],
   "source": []
  }
 ],
 "metadata": {
  "kernelspec": {
   "display_name": "Python 3",
   "language": "python",
   "name": "python3"
  },
  "language_info": {
   "codemirror_mode": {
    "name": "ipython",
    "version": 3
   },
   "file_extension": ".py",
   "mimetype": "text/x-python",
   "name": "python",
   "nbconvert_exporter": "python",
   "pygments_lexer": "ipython3",
   "version": "3.7.3"
  }
 },
 "nbformat": 4,
 "nbformat_minor": 2
}
